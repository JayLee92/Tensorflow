{
 "cells": [
  {
   "cell_type": "markdown",
   "metadata": {},
   "source": [
    "# 우리말 샘 이용하기\n",
    "## 1. 우리말샘 오픈 API 서비스 \n",
    "- 우리말샘 오픈 API는 검색 플랫폼을 외부에 공개하여 다양하고 재미있는 서비스 및 애플리케이션을 개발할 수 있도록 외부 개발자와 사용자들이 공유하는 프로그램\n",
    "- 우리말샘에 구축된 양질의 사전 정보를 개인 또는 기관에서 오픈 API를 이용해 자유롭게 이용할 수 있도록 제공\n",
    "\n",
    "## 2. 우리말샘 오픈 API 서비스 인증키 발급\n",
    "## 3. 우리말샘 오픈 API 서비스 이용"
   ]
  },
  {
   "cell_type": "code",
   "execution_count": 1,
   "metadata": {},
   "outputs": [],
   "source": [
    "from urllib.request import urlopen\n",
    "from urllib.parse import quote, unquote"
   ]
  },
  {
   "cell_type": "markdown",
   "metadata": {},
   "source": [
    "### url 한글 처리\n",
    "- URL에 사용할 수 있는 문자 : 영문자, 숫자, 몇몇 기호 뿐\n",
    "- URL에서 Ascii 코드가 아닌 문자들을 전송하기 위해서는 퍼센트 인코딩(percent encoding)이라는 형식으로 바꾸어야 함\n",
    "- urllib.parse.quote() / urllib.parse.unquote()"
   ]
  },
  {
   "cell_type": "code",
   "execution_count": 2,
   "metadata": {},
   "outputs": [
    {
     "name": "stdout",
     "output_type": "stream",
     "text": [
      "%ED%95%9C%EA%B8%80 한글\n"
     ]
    }
   ],
   "source": [
    "kor = quote('한글')\n",
    "print(kor, unquote(kor))"
   ]
  },
  {
   "cell_type": "code",
   "execution_count": 5,
   "metadata": {},
   "outputs": [],
   "source": [
    "def makeUrl(apiKey, word):\n",
    "    url = 'https://opendict.korean.go.kr/api/search?'\n",
    "    url += 'certkey_no=1036&key='\n",
    "    url += apiKey         # 우리말 샘 개발 API Key\n",
    "    url += '&target_type=search&part=word&q='\n",
    "    url += quote(word)    # for percent encoding (한글 처리)\n",
    "    url += '&sort=dict&start=1&num=10'\n",
    "    return url"
   ]
  },
  {
   "cell_type": "code",
   "execution_count": 9,
   "metadata": {},
   "outputs": [],
   "source": [
    "key = '*******'\n",
    "word = '개구리'\n",
    "urlStr = makeUrl(key, word)\n",
    "xml = urlopen(urlStr).read()"
   ]
  },
  {
   "cell_type": "markdown",
   "metadata": {},
   "source": [
    "### XML Parsing\n",
    "- 데이터가 문자열로 존재하는 경우 elemTree.fromstring('XML 문자열')\n",
    "- 태그 검색 : find(tag), findall(tag)\n",
    "- 태그 데이터 : text"
   ]
  },
  {
   "cell_type": "code",
   "execution_count": 10,
   "metadata": {},
   "outputs": [],
   "source": [
    "import xml.etree.ElementTree as elemTree\n",
    "tree = elemTree.fromstring(xml)"
   ]
  },
  {
   "cell_type": "code",
   "execution_count": 11,
   "metadata": {},
   "outputs": [
    {
     "data": {
      "text/plain": [
       "'우리말샘 개발 지원(Open API) - 사전 어휘 검색'"
      ]
     },
     "execution_count": 11,
     "metadata": {},
     "output_type": "execute_result"
    }
   ],
   "source": [
    "title = tree.find('title')\n",
    "title.text"
   ]
  },
  {
   "cell_type": "code",
   "execution_count": 12,
   "metadata": {},
   "outputs": [
    {
     "name": "stdout",
     "output_type": "stream",
     "text": [
      "개구리 : 양서강 개구리목의 동물을 통틀어 이르는 말.\n",
      "개구리-갓 : 미나리아재빗과의 여러해살이풀. 줄기는 높이가 10~25cm이다. 근생엽은 잎자루가 길고 세 갈래로 갈라지며 경엽은 어긋나고 잎자루가 없다. 4~5월에 노란 꽃이 줄기 끝에 피고 열매는 수과(瘦果)를 맺는다. 들의 습지에서 자라는데 한국의 제주도를 비롯하여 일본, 대만, 중국 등지에 분포한다.\n",
      "개구리^균형^서기 : 양손으로 자신의 몸무게를 지지하여 균형 능력을 측정하는 체력 측정 방법. 피검자는 두 손을 어깨너비로 벌려 삼각형의 꼭짓점 부분에 머리를 대고, 두 팔꿈치 외각 부분에 두 무릎을 얹고 5초 동안 균형을 유지한다. 측정자는 피검자가 지면에서 두 발을 떼는 순간부터 초를 재고, 균형을 잃거나 발이 바닥에 닿으면 초시계를 멈추고 시간을 기록한다.\n",
      "개구리-눈 : 둥그렇게 불거져 나온 눈을 비유적으로 이르는 말.\n",
      "개구리^다리^자세 : 회음부를 노출하기 위하여 바로 누워서 무릎을 벌린 뒤 발바닥까지 벌린 자세.\n",
      "개구리뛰기^알고리즘 : 수치 해석적 방법으로 미분 방정식을 적분하여 풀이하는 방법의 하나. 매 단계마다 위치를 갱신하고, 각 단계의 중간 위치마다 속도를 갱신하여 적분을 수행한다.\n",
      "개구리뛰기^풀이법 : 수치 해석적 방법으로 미분 방정식을 적분하여 풀이하는 방법의 하나. 매 단계마다 위치를 갱신하고, 각 단계의 중간 위치마다 속도를 갱신하여 적분을 수행한다.\n",
      "개구리-뜀 : 개구리가 뛰는 것처럼 두 발을 모아서 펄떡펄떡 뛰는 뜀.\n",
      "개구리-망 : 미나리아재빗과의 여러해살이풀. 줄기는 높이가 15~30cm이며, 근생엽은 덩이줄기에서 뭉쳐나며 잎자루가 길고 뒷면이 희다. 4~5월에 담홍색 작은 꽃이 줄기 끝에 한 송이씩 피고 열매는 별 모양의 골돌과(蓇突果)로 산기슭에 난다. 한국의 전라ㆍ제주, 일본, 중국 등지에 분포한다.\n",
      "개구리-매 : 수릿과의 새. 편 날개의 길이는 41cm, 꽁지의 길이는 25cm 정도이며, 어두운 적갈색에 검은 갈색 점무늬가 섞여 있다. 낮게 날아다니면서 뱀, 개구리, 물새 따위를 잡아먹는다. 봄과 가을에 우리나라를 지나가는 나그네새이다. 물가 등 습지에 사는데 한국을 비롯하여 아시아, 유럽, 아프리카 등지에 분포한다. 천연기념물 제323-3호.\n"
     ]
    }
   ],
   "source": [
    "for item in tree.findall('item'):\n",
    "    print(item.find('word').text, ':', item.find('sense').find('definition').text)"
   ]
  },
  {
   "cell_type": "code",
   "execution_count": null,
   "metadata": {},
   "outputs": [],
   "source": []
  }
 ],
 "metadata": {
  "kernelspec": {
   "display_name": "Python 3",
   "language": "python",
   "name": "python3"
  },
  "language_info": {
   "codemirror_mode": {
    "name": "ipython",
    "version": 3
   },
   "file_extension": ".py",
   "mimetype": "text/x-python",
   "name": "python",
   "nbconvert_exporter": "python",
   "pygments_lexer": "ipython3",
   "version": "3.7.3"
  }
 },
 "nbformat": 4,
 "nbformat_minor": 2
}
