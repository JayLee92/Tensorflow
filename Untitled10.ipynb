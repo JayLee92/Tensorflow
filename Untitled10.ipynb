{
 "cells": [
  {
   "cell_type": "code",
   "execution_count": 1,
   "metadata": {},
   "outputs": [],
   "source": [
    "from bs4 import BeautifulSoup"
   ]
  },
  {
   "cell_type": "code",
   "execution_count": 2,
   "metadata": {},
   "outputs": [],
   "source": [
    "from urllib.request import urlopen"
   ]
  },
  {
   "cell_type": "code",
   "execution_count": 3,
   "metadata": {},
   "outputs": [],
   "source": [
    "url_base = 'https://movie.naver.com'\n",
    "#url_sub = '/movie/bi/mi/point.nhn?code=163788' #알라딘\n",
    "url_sub = '/movie/bi/mi/point.nhn?code=169637' #라이온킹\n",
    "url = url_base + url_sub\n",
    "\n",
    "page = urlopen(url)\n",
    "soup = BeautifulSoup(page,'html.parser')"
   ]
  },
  {
   "cell_type": "markdown",
   "metadata": {},
   "source": [
    "리뷰가 작성되어있는 iframe 추출"
   ]
  },
  {
   "cell_type": "code",
   "execution_count": 4,
   "metadata": {},
   "outputs": [],
   "source": [
    "url_sub = soup.find('iframe')['src']"
   ]
  },
  {
   "cell_type": "markdown",
   "metadata": {},
   "source": [
    "페이지별 리뷰를 가져오기 위해 전체 리뷰 개수 및 페이징 부분 추출"
   ]
  },
  {
   "cell_type": "code",
   "execution_count": 5,
   "metadata": {},
   "outputs": [],
   "source": [
    "url = url_base + url_sub\n",
    "page = urlopen(url)\n",
    "soup = BeautifulSoup(page,'html.parser')\n",
    "\n",
    "#전체 개수 파악\n",
    "temp = soup.find('strong','total')\n",
    "total_num = int(temp.find('em').get_text().replace(',',''))\n",
    "\n",
    "#페이지 주소 추출\n",
    "soup = soup.find('div','paging')\n",
    "url_sub = soup.find('a')['href'][:-1]"
   ]
  },
  {
   "cell_type": "markdown",
   "metadata": {},
   "source": [
    "반복해서 전체 리뷰 추출"
   ]
  },
  {
   "cell_type": "code",
   "execution_count": 6,
   "metadata": {},
   "outputs": [],
   "source": [
    "from tqdm import tqdm_notebook"
   ]
  },
  {
   "cell_type": "code",
   "execution_count": 7,
   "metadata": {},
   "outputs": [
    {
     "data": {
      "application/vnd.jupyter.widget-view+json": {
       "model_id": "3de4dc21627143f6948ae29afaca1fad",
       "version_major": 2,
       "version_minor": 0
      },
      "text/plain": [
       "HBox(children=(IntProgress(value=0, max=898), HTML(value='')))"
      ]
     },
     "metadata": {},
     "output_type": "display_data"
    },
    {
     "name": "stdout",
     "output_type": "stream",
     "text": [
      "\n"
     ]
    }
   ],
   "source": [
    "loop = total_num/10 if total_num%10 == 0 else int(total_num/10 +1)\n",
    "total = tqdm_notebook(range(1,loop+1))\n",
    "star = []\n",
    "comment = []\n",
    "writer = []\n",
    "date_time = []\n",
    "up_cnt = []\n",
    "down_cnt = []\n",
    "for i in total:\n",
    "    url = url_base + url_sub + str(i)\n",
    "    page = urlopen(url)\n",
    "    soup = BeautifulSoup(page,'html.parser')\n",
    "    soup = soup.find('div','score_result')\n",
    "    li_num = len(soup.find_all('li'))\n",
    "    for j in range(0,li_num):\n",
    "        result = soup.find_all('li')[j]\n",
    "        star.append(result.find(class_='star_score').get_text().strip())\n",
    "        comment.append(result.find(id='_filtered_ment_'+str(j)).get_text().strip())\n",
    "        writer.append(result.find('a').get_text().strip())\n",
    "        date_time.append(result.find('dt').find_all('em')[1].get_text())\n",
    "        up_cnt.append(result.find(class_='_sympathyButton').find('strong').get_text())\n",
    "        down_cnt.append(result.find(class_='_notSympathyButton').find('strong').get_text())        "
   ]
  },
  {
   "cell_type": "code",
   "execution_count": 8,
   "metadata": {},
   "outputs": [],
   "source": [
    "import pandas as pd\n",
    "\n",
    "data = {'별점':star,'댓글':comment,'작성자':writer,'작성날짜':date_time,'공감수':up_cnt,'비공감수':down_cnt}\n",
    "df = pd.DataFrame(data)"
   ]
  },
  {
   "cell_type": "code",
   "execution_count": 9,
   "metadata": {},
   "outputs": [],
   "source": [
    "#df.to_csv('naver_movie_aladdin.csv', sep=',',encoding='UTF-8')\n",
    "df.to_csv('naver_movie_the_lion_king.csv', sep=',',encoding='UTF-8')"
   ]
  },
  {
   "cell_type": "code",
   "execution_count": null,
   "metadata": {},
   "outputs": [],
   "source": []
  }
 ],
 "metadata": {
  "kernelspec": {
   "display_name": "Python 3",
   "language": "python",
   "name": "python3"
  },
  "language_info": {
   "codemirror_mode": {
    "name": "ipython",
    "version": 3
   },
   "file_extension": ".py",
   "mimetype": "text/x-python",
   "name": "python",
   "nbconvert_exporter": "python",
   "pygments_lexer": "ipython3",
   "version": "3.7.4"
  }
 },
 "nbformat": 4,
 "nbformat_minor": 2
}
