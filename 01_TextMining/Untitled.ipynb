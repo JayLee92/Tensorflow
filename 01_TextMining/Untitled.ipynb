{
 "cells": [
  {
   "cell_type": "code",
   "execution_count": 47,
   "metadata": {},
   "outputs": [],
   "source": [
    "from bs4 import BeautifulSoup"
   ]
  },
  {
   "cell_type": "code",
   "execution_count": 66,
   "metadata": {},
   "outputs": [],
   "source": [
    "from selenium import webdriver\n",
    "from time import sleep\n",
    "import pandas\n",
    "from tqdm import tqdm_notebook"
   ]
  },
  {
   "cell_type": "code",
   "execution_count": null,
   "metadata": {},
   "outputs": [
    {
     "data": {
      "application/vnd.jupyter.widget-view+json": {
       "model_id": "e2a9d48632d249dea9ec492ea4e809f2",
       "version_major": 2,
       "version_minor": 0
      },
      "text/plain": [
       "HBox(children=(IntProgress(value=0, max=146), HTML(value='')))"
      ]
     },
     "metadata": {},
     "output_type": "display_data"
    }
   ],
   "source": [
    "dt_index = pandas.date_range(start='20190601',end=pandas.Timestamp.today())\n",
    "#dt_index = pandas.date_range(start='20190107',end='20190107')\n",
    "dt_list = dt_index.strftime(\"%Y.%m.%d\").tolist()\n",
    "\n",
    "bar_total = tqdm_notebook(dt_list)\n",
    "market_date = []\n",
    "market_company = [] \n",
    "market_crop = []\n",
    "market_crop_spec = []\n",
    "market_scale = []\n",
    "market_grade = []\n",
    "market_price = []\n",
    "market_origin = []\n",
    "market_eco = []\n",
    "\n",
    "try:\n",
    "    \n",
    "\n",
    "    for item in bar_total:\n",
    "        browser = webdriver.Chrome(\"C:/Users/shin/Downloads/chromedriver_win32/chromedriver.exe\")\n",
    "        js = '''\n",
    "          form = document.createElement('form');\n",
    "          form.method = 'post';\n",
    "          form.action = 'https://www.garak.co.kr/price/OZViewer.do';\n",
    "          form.acceptCharset=\"UTF-8\";\n",
    "\n",
    "          hiddenField = document.createElement('input');\n",
    "          hiddenField.type = 'hidden';\n",
    "          hiddenField.name = \"s_pummok\";\n",
    "          hiddenField.value = \"바실\";\n",
    "          form.appendChild(hiddenField);\n",
    "\n",
    "          hiddenField = document.createElement('input');\n",
    "          hiddenField.type = 'hidden';\n",
    "          hiddenField.name = 's_date';\n",
    "          hiddenField.value = \"'''+item+ '''\";\n",
    "          form.appendChild(hiddenField);\n",
    "\n",
    "          hiddenField = document.createElement('input');\n",
    "          hiddenField.type = 'hidden';\n",
    "          hiddenField.name = \"R010680\";\n",
    "          hiddenField.value = \"10\";\n",
    "          form.appendChild(hiddenField);\n",
    "\n",
    "          hiddenField = document.createElement('input');\n",
    "          hiddenField.type = 'hidden';\n",
    "          hiddenField.name = \"R010690\";\n",
    "          hiddenField.value = \"10\";\n",
    "          form.appendChild(hiddenField);\n",
    "\n",
    "          hiddenField = document.createElement('input');\n",
    "          hiddenField.type = 'hidden';\n",
    "          hiddenField.name = \"R010700\";\n",
    "          hiddenField.value = \"10\";\n",
    "          form.appendChild(hiddenField);\n",
    "\n",
    "          document.body.appendChild(form);\n",
    "          form.submit();\n",
    "        '''\n",
    "        browser.execute_script(js)\n",
    "        sleep(4)\n",
    "        html = browser.page_source\n",
    "        soup = BeautifulSoup(html, 'html.parser')\n",
    "        list_tspan = soup.find_all('tspan')\n",
    "\n",
    "        #oz viewer page 수\n",
    "        page_cnt = int(list_tspan[3].get_text()[2:])\n",
    "\n",
    "        #페이지 별 출력을 위해 js code 실행\n",
    "        js_click_event = 'document.getElementsByClassName(\"btnNEXT\")[0].click();'\n",
    "\n",
    "        for i in range(1,page_cnt+1):\n",
    "            if i > 1 :\n",
    "                browser.execute_script(js_click_event)\n",
    "                sleep(2)\n",
    "            html = browser.page_source\n",
    "            soup = BeautifulSoup(html, 'html.parser')\n",
    "            list_tspan = soup.find_all('tspan')\n",
    "            list_tspan = list_tspan[13:-7]\n",
    "            tmp =  len(list_tspan)%8\n",
    "            if tmp == 0:\n",
    "                line_cnt = int(len(list_tspan)/8)\n",
    "                for j in range(0,line_cnt):\n",
    "                    temp = j*8\n",
    "                    market_date.append(item)\n",
    "                    market_company.append(list_tspan[temp].get_text())\n",
    "                    market_crop.append(list_tspan[temp+1].get_text())\n",
    "                    market_crop_spec.append(list_tspan[temp+2].get_text())\n",
    "                    market_scale.append(list_tspan[temp+3].get_text())\n",
    "                    market_grade.append(list_tspan[temp+4].get_text())\n",
    "                    market_price.append(list_tspan[temp+5].get_text())\n",
    "                    market_origin.append(list_tspan[temp+6].get_text())\n",
    "                    market_eco.append(list_tspan[temp+7].get_text())\n",
    "\n",
    "        #브라우저를 닫는다.\n",
    "        browser.close()\n",
    "except:\n",
    "    print(item,'에서 에러났땅')\n",
    "    #data frame 생성\n",
    "    data = {'일자':market_date, '법인':market_company, '품목':market_crop, '품종':market_crop_spec, '단위':market_scale, '등급':market_grade, '경락':market_price, '출하지':market_origin, '친환경 구분':market_eco}\n",
    "    df = pandas.DataFrame(data)\n",
    "    #df.head()\n",
    "    df.to_csv('basil.csv', sep=',',encoding='UTF-8')\n",
    "    \n",
    "#data frame 생성\n",
    "data = {'일자':market_date, '법인':market_company, '품목':market_crop, '품종':market_crop_spec, '단위':market_scale, '등급':market_grade, '경락':market_price, '출하지':market_origin, '친환경 구분':market_eco}\n",
    "df = pandas.DataFrame(data)\n",
    "#df.head()\n",
    "df.to_csv('basil.csv', sep=',',encoding='UTF-8')"
   ]
  },
  {
   "cell_type": "code",
   "execution_count": null,
   "metadata": {},
   "outputs": [],
   "source": []
  }
 ],
 "metadata": {
  "kernelspec": {
   "display_name": "Python 3",
   "language": "python",
   "name": "python3"
  },
  "language_info": {
   "codemirror_mode": {
    "name": "ipython",
    "version": 3
   },
   "file_extension": ".py",
   "mimetype": "text/x-python",
   "name": "python",
   "nbconvert_exporter": "python",
   "pygments_lexer": "ipython3",
   "version": "3.7.4"
  }
 },
 "nbformat": 4,
 "nbformat_minor": 2
}
